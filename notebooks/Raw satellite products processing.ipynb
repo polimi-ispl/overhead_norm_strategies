{
 "cells": [
  {
   "cell_type": "markdown",
   "id": "45190c27",
   "metadata": {},
   "source": [
    "# Raw satellite products processing\n",
    "A small notebook to process the satellite products we downloaded from various platforms.  \n",
    "The processing varies depending on the mission we are considering."
   ]
  },
  {
   "cell_type": "markdown",
   "id": "4e90306d",
   "metadata": {},
   "source": [
    "## Libraries import"
   ]
  },
  {
   "cell_type": "code",
   "execution_count": null,
   "id": "c729d1c3",
   "metadata": {},
   "outputs": [],
   "source": [
    "import rasterio\n",
    "import numpy as np\n",
    "import os\n",
    "import ntpath\n",
    "import glob\n",
    "import matplotlib.pyplot as plt\n",
    "import pandas as pd\n",
    "import sys\n",
    "sys.path.append('..')\n",
    "from isplutils.PatchExtractor import PatchExtractor\n",
    "from matplotlib import rc\n",
    "rc('font',**{'family':'sans-serif','sans-serif':['Times']})\n",
    "## for Palatino and other serif fonts use:\n",
    "#rc('font',**{'family':'serif','serif':['Palatino']})\n",
    "rc('text', usetex=True)"
   ]
  },
  {
   "cell_type": "markdown",
   "id": "82544089",
   "metadata": {},
   "source": [
    "## Helpers functions"
   ]
  },
  {
   "cell_type": "code",
   "execution_count": null,
   "id": "bbb70bd5",
   "metadata": {},
   "outputs": [],
   "source": [
    "\"\"\"\n",
    "Some image functions we are trying for normalizing 16-bit GRD images and convert them to 8-bits images.\n",
    "For each scaling we provide the 8-bit conversion process too.\n",
    "\n",
    "Authors:\n",
    "Edoardo Daniele Cannas - edoardodaniele.cannas@polimi.it\n",
    "\"\"\"\n",
    "from sklearn.preprocessing import RobustScaler, QuantileTransformer\n",
    "\n",
    "\n",
    "## Normalization functions\n",
    "\n",
    "def raw_scaling(img: np.ndarray, conversion_8: bool = False) -> np.ndarray:\n",
    "    \"\"\"\n",
    "    Standard min-max scaler\n",
    "\n",
    "    :param img: np.ndarray, input image (tested GRD 16-bits)\n",
    "    :param conversion_8: bool, wheter to convert to 8-bits depth\n",
    "    :return: np.ndarray, normalized numpy array\n",
    "    \"\"\"\n",
    "    norm = ((img-img.min())/(img.max()-img.min()))\n",
    "    if conversion_8: # here\n",
    "        norm = (norm*255).astype(np.uint8)\n",
    "    return norm\n",
    "\n",
    "\n",
    "def db_scaling(img: np.ndarray, conversion_8: bool = False) -> np.ndarray:\n",
    "\t\"\"\"\n",
    "\tPuts the image in logarithmic scale with a factor 10 \n",
    "\t\n",
    "\t:param img: np.ndarray, input image (tested GRD 16-bits)\n",
    "\t:param conversion_8: bool, wheter to convert to 8-bits depth\n",
    "\t:return: np.ndarray, normalized numpy array\n",
    "\t\"\"\"\n",
    "\tnorm = np.log10(img)\n",
    "\tif conversion_8:\n",
    "\t\tnorm = (norm-norm.min())/(norm.max()-norm.min())  # np.log10 provides the image already in float32, however the range may not be restricted 0-1\n",
    "\t\tnorm = (norm*255).astype(np.uint8)\n",
    "\treturn norm\n",
    "\n",
    "\n",
    "def mul_scaling(img: np.ndarray,  mul_factor: int = 100, conversion_8: bool = False) -> np.ndarray:\n",
    "\t\"\"\"\n",
    "\tSimple scaling of the dynamic with a multiplicative factor\n",
    "\t\n",
    "\t:param img: np.ndarray, input image (tested GRD 16-bits)\n",
    "\t:param mul_factor: int, multiplicative factor for the scaling\n",
    "\t:param conversion_8: bool, wheter to convert to 8-bits depth\n",
    "\t:return: np.ndarray, normalized numpy array\n",
    "\t\"\"\"\n",
    "\tnorm = ((img-img.min())/(img.max()-img.min()))\n",
    "\tnorm *= mul_factor\n",
    "\tif conversion_8:\n",
    "\t\tnorm = (norm*255).astype(np.uint8)\n",
    "\treturn norm\n",
    "\n",
    "\n",
    "def janos_scaling(img: np.ndarray, conversion_8: bool = False) -> np.ndarray:\n",
    "\t\"\"\"\n",
    "\tNice dynamic scaling using exponential functions, original author Janos Horvath - horvath5@purdue.edu\n",
    "\t\n",
    "\t:param img: np.ndarray, input image (tested GRD 16-bits)\n",
    "\t:param conversion_8: bool, wheter to convert to 8-bits depth\n",
    "\t:return: np.ndarray, normalized numpy array\n",
    "\t\"\"\"\n",
    "\tnorm = 2/((1+np.exp(-(img*40/256/256))))-1\n",
    "\tif conversion_8:\n",
    "\t\tnorm = (norm*255).astype(np.uint8)\n",
    "\treturn norm\n",
    "\n",
    "\n",
    "def mz_scaling(img: np.ndarray, conversion_8: bool = False) -> np.ndarray:\n",
    "    \"\"\"\n",
    "    Modified Z-score normalization taken from Sun et al, “DeepInSAR—A Deep Learning Framework for SAR Interferometric Phase Restoration and Coherence Estimation”\n",
    "\n",
    "    :param img: np.ndarray, input image (tested GRD 16-bits)\n",
    "    :param conversion_8: bool, wheter to convert to 8-bits depth\n",
    "    :return: np.ndarray, normalized numpy array\n",
    "    \"\"\"\n",
    "    shape = img.shape\n",
    "    img = img.flatten()\n",
    "    img_med = np.median(img)\n",
    "    mad = np.median(np.abs(img - np.median(img)))\n",
    "    #mad=0.1656\n",
    "    mz = 0.6745 * ((img - np.median(img)) / mad)  # 0.6475 is the 75th quartile of the normal distribution, removes the outlier\n",
    "    #mz = 0.6745 * ((a - 0.7097678) / mad)\n",
    "    mz = (np.tanh(mz / 7) + 1) / 2\n",
    "    mz_min = mz.min()\n",
    "    mz_max = mz.max()\n",
    "    mz = (mz - mz.min()) / (mz.max() - mz.min())\n",
    "    norm = mz.reshape(shape)\n",
    "    if conversion_8:\n",
    "        norm = (norm*255).astype(np.uint8)\n",
    "    return norm\n",
    "\n",
    "\n",
    "## Range equalizers\n",
    "\n",
    "def robust_scaling(img: np.ndarray) -> np.ndarray:\n",
    "\t\"\"\"\n",
    "\tRobustScaler: eliminates outliers, reproject the images in the same range\n",
    "\t\n",
    "\t:param img: np.ndarray, input image (tested GRD 16-bits)\n",
    "\t:return: np.ndarray, normalized numpy array\n",
    "\t\"\"\"\n",
    "\treturn RobustScaler().fit_transform(img.reshape(-1, 1)).reshape(img.shape)\n",
    "\t\n",
    "\n",
    "def quantile_scaling(img: np.ndarray, dist: str) -> np.ndarray:\n",
    "\t\"\"\"\n",
    "\tQuantileTransformer: maps the image range to a specific stastical distribution\n",
    "\t\n",
    "\t:param img: np.ndarray, input image (tested GRD 16-bits)\n",
    "\t:param distribution: str, distribution for mapping the image (either 'uniform' or 'normal')\n",
    "\t:return: np.ndarray, normalized numpy array\n",
    "\t\"\"\"\n",
    "\treturn QuantileTransformer(output_distribution=dist).fit_transform(img.reshape(-1, 1)).reshape(img.shape)"
   ]
  },
  {
   "cell_type": "markdown",
   "id": "a900b3b9",
   "metadata": {},
   "source": [
    "## CBERS sample\n",
    "These are samples from a joint [Chinese-Brazilian Earth Resource Satellite program](https://en.wikipedia.org/wiki/CBERS).  \n",
    "Images are downloaded as separate tiffs for each band, so we should take a look at them and eventually re-assemble them together."
   ]
  },
  {
   "cell_type": "code",
   "execution_count": null,
   "id": "c1fce7eb",
   "metadata": {},
   "outputs": [],
   "source": [
    "DATA_ROOT = '../data/pristine_images/full_res_products'\n",
    "bands = glob.glob(os.path.join(DATA_ROOT, '**/*.tif*'), recursive=True)\n",
    "bands = [band for band in bands if 'analytic_sr' not in band]\n",
    "data_df = pd.concat([pd.concat({acq.split('/')[4]: pd.DataFrame(index=[acq])}, names=['Original_product', 'Bands path']) for acq in bands])\n",
    "data_df"
   ]
  },
  {
   "cell_type": "markdown",
   "id": "19a5cd87",
   "metadata": {},
   "source": [
    "### Let's add the info we need from the profile"
   ]
  },
  {
   "cell_type": "code",
   "execution_count": null,
   "id": "06239f1c",
   "metadata": {},
   "outputs": [],
   "source": [
    "# We can add some information in between too\n",
    "for product in data_df.index.get_level_values(0).unique():\n",
    "    # Select the product\n",
    "    df = data_df.loc[product]\n",
    "    fsize = 20\n",
    "    for idx, band in enumerate(df.index.get_level_values(0).unique()):\n",
    "        # Load the band\n",
    "        with rasterio.open(band, 'r') as src:\n",
    "            # Add info\n",
    "            data_df.loc[(product, band), 'height'] = src.profile['height']\n",
    "            data_df.loc[(product, band), 'width'] = src.profile['width']\n",
    "            data_df.loc[(product, band), 'bit_depth'] = src.profile['dtype']"
   ]
  },
  {
   "cell_type": "markdown",
   "id": "3e4348b4",
   "metadata": {},
   "source": [
    "### Let's plot all these bands"
   ]
  },
  {
   "cell_type": "code",
   "execution_count": null,
   "id": "74160ff3",
   "metadata": {
    "scrolled": false
   },
   "outputs": [],
   "source": [
    "# We can add some information in between too\n",
    "for product in data_df.index.get_level_values(0).unique():\n",
    "    # Select the product\n",
    "    df = data_df.loc[product]\n",
    "    fsize = 20\n",
    "    # Prepare the figure\n",
    "    if len(df) > 3:\n",
    "        fig, axs = plt.subplots(1, len(df), figsize=(16*len(df), 16))\n",
    "        fsize = 35\n",
    "    else:\n",
    "        fig, axs = plt.subplots(1, len(df), figsize=(12*len(df), 12))\n",
    "    for idx, band in enumerate(df.index.get_level_values(0).unique()):\n",
    "        # Load the band\n",
    "        with rasterio.open(band, 'r') as src:\n",
    "            raster = src.read()\n",
    "        axs[idx].imshow(np.squeeze(raster), cmap='gray')\n",
    "        axs[idx].set_title(f\"{band.split('/')[-1].split('.')[0]} raster,\\ndtype {raster.dtype}, dimensions {raster.shape}\", fontsize=fsize)\n",
    "    fig.suptitle(f\"{product} bands\", fontsize=fsize)\n",
    "    plt.show()"
   ]
  },
  {
   "cell_type": "markdown",
   "id": "68a71cb8",
   "metadata": {},
   "source": [
    "### Let's glue them together. \n",
    "Watch out for the different meaning of bands (look [here](https://www.eoportal.org/satellite-missions/cbers-3-4#sensor-complement-muxcam-panmux-irs-wfi-dcs)).  \n",
    "\n",
    "**MUX sensor**:\n",
    "1. B05: 0.45 - 0.52 µm (Blue band);\n",
    "2. B06: 0.52 - 0.59 µm (Green band);\n",
    "3. B07: 0.63 - 0.69 µm (Red band);\n",
    "4. B08: 0.77 - 0.89 µm (NIR band).\n",
    "\n",
    "**PAN sensor**:\n",
    "1. B01: 0.51 - 0.85 µm (panchromatic band);\n",
    "2. B02: 0.52 - 0.59 µm (Green band);\n",
    "3. B03: 0.63 - 0.69 µm (Red band);\n",
    "4. B04: 0.77 - 0.89 µm (NIR band).\n",
    "\n",
    "**WFI sensor**:\n",
    "1. B13: 0.45 - 0.52 µm (Blue band);\n",
    "2. B14: 0.52 - 0.59 µm (Green band);\n",
    "3. B15: 0.63 - 0.69 µm (Red band);\n",
    "4. B16: 0.77 - 0.89 µm (NIR band).\n",
    "\n",
    "**CCD sensor**:\n",
    "1. B1 = 0,45 - 0,52 µm (Blue band);\n",
    "2. B2 = 0,52 - 0,59 µm (Green band);\n",
    "3. B3 = 0,63 - 0,69 µm (Red band);\n",
    "4. B4 = 0,77 - 0,89 µm (NIR band).\n",
    "\n",
    "Since we are dealing with RGB images, we are going to work only with the Red, Green, and Blue bands.  \n",
    "We are also adding the mask in the plot for no-data values."
   ]
  },
  {
   "cell_type": "markdown",
   "id": "fe706529",
   "metadata": {},
   "source": [
    "### Let's modify a little the DataFrame"
   ]
  },
  {
   "cell_type": "code",
   "execution_count": null,
   "id": "bfabbb05",
   "metadata": {},
   "outputs": [],
   "source": [
    "# Let's pick up the sensors first and bands first\n",
    "data_df['sensor'] = ''\n",
    "data_df['bands_num'] = ''\n",
    "for i, r in data_df.iterrows():\n",
    "    data_df.loc[i, 'sensor'] = i[0].split('_')[2]\n",
    "    if 'AMAZONIA' in i[0]:\n",
    "        data_df.loc[i, 'sensor'] = 'AWFI'\n",
    "    if 'L4_' in i[1]:\n",
    "        data_df.loc[i, 'bands_num'] = i[1].split('L4_')[1].split('.')[0]\n",
    "    else:\n",
    "        data_df.loc[i, 'bands_num'] = i[1].split('L2_')[1].split('.')[0]\n",
    "\n",
    "# Let's add a more comprehensible definition for bands\n",
    "bands_dict = {sensor: dict() for sensor in data_df['sensor'].unique()}\n",
    "bands_dict['PAN10M'] = {'BAND3': 'Red', 'BAND4': 'NIR', 'BAND2': 'Green'}\n",
    "bands_dict['MUX'] = {'BAND5': 'Blue', 'BAND6': 'Green', 'BAND7': 'Red', 'BAND8': 'NIR'}\n",
    "bands_dict['WFI'] = {'BAND13': 'Blue', 'BAND14': 'Green', 'BAND15': 'Red', 'BAND16': 'NIR'}\n",
    "bands_dict['CCD1XS'] = {'BAND1': 'Blue', 'BAND2': 'Green', 'BAND3': 'Red', 'BAND4': 'NIR', 'BAND5': 'PAN'}\n",
    "bands_dict['AWFI'] = {'BAND1': 'Blue', 'BAND2': 'Green', 'BAND3': 'Red', 'BAND4': 'NIR'}\n",
    "data_df['bands_name'] = ''\n",
    "for i, r in data_df.iterrows():\n",
    "    data_df.loc[i, 'bands_name'] = bands_dict[r.sensor][r.bands_num]\n",
    "data_df"
   ]
  },
  {
   "cell_type": "code",
   "execution_count": null,
   "id": "219f9648",
   "metadata": {
    "scrolled": true
   },
   "outputs": [],
   "source": [
    "for product in data_df.loc[data_df['sensor']!='PAN10M'].index.get_level_values(0).unique():\n",
    "    # Select the product\n",
    "    df = data_df.loc[product]\n",
    "    fsize = 20\n",
    "    # Prepare the figure\n",
    "    fig, axs = plt.subplots(1, 2, figsize=(24, 12))\n",
    "    bands = dict()\n",
    "    for i, r in df.iterrows():\n",
    "        # Load the band\n",
    "        with rasterio.open(i, 'r') as src:\n",
    "            raster = src.read()\n",
    "            mask = src.read_masks()\n",
    "        # Add it to the bands dictionary\n",
    "        bands[r['bands_name']] = raster.copy()\n",
    "    \n",
    "    # \"Glue\" the bands together\n",
    "    img = np.concatenate((bands['Red'], bands['Green'], bands['Blue']), axis=0)\n",
    "    bit_depth = img.dtype\n",
    "    if img.dtype == np.int16:\n",
    "        img = (img-img.min())/(img.max()-img.min())\n",
    "    axs[0].imshow(np.moveaxis(img, 0, 2))\n",
    "    axs[1].imshow(np.squeeze(mask), cmap='gray')\n",
    "    fig.suptitle(f\"{product} bands and no data mask, {bit_depth} bits depth\", fontsize=fsize)\n",
    "    plt.show()"
   ]
  },
  {
   "cell_type": "markdown",
   "id": "bc28aa23",
   "metadata": {},
   "source": [
    "## Landsat sample"
   ]
  },
  {
   "cell_type": "code",
   "execution_count": null,
   "id": "ff4b341f",
   "metadata": {},
   "outputs": [],
   "source": [
    "bands = glob.glob(os.path.join(DATA_ROOT, '**/*.TIF'), recursive=True)\n",
    "tmp_df = pd.concat([pd.concat({acq.split('/')[4]: pd.DataFrame(index=[acq])}, names=['Original_product', 'Bands path']) for acq in bands])\n",
    "tmp_df['height'] = 0\n",
    "tmp_df['height'] = 0\n",
    "tmp_df['sensor'] = 'OLI'\n",
    "tmp_df['bands_num'] = ''\n",
    "tmp_df['bands_name'] = ''\n",
    "data_df = pd.concat([data_df, tmp_df])\n",
    "data_df"
   ]
  },
  {
   "cell_type": "markdown",
   "id": "273095ee",
   "metadata": {},
   "source": [
    "### Let's add the info we need from the profiles"
   ]
  },
  {
   "cell_type": "code",
   "execution_count": null,
   "id": "01e25e7b",
   "metadata": {},
   "outputs": [],
   "source": [
    "# We can add some information in between too\n",
    "for product in tmp_df.index.get_level_values(0).unique():\n",
    "    # Select the product\n",
    "    df = data_df.loc[product]\n",
    "    fsize = 20\n",
    "    for idx, band in enumerate(df.index.get_level_values(0).unique()):\n",
    "        # Load the band\n",
    "        with rasterio.open(band, 'r') as src:\n",
    "            # Add info\n",
    "            data_df.loc[(product, band), 'height'] = src.profile['height']\n",
    "            data_df.loc[(product, band), 'width'] = src.profile['width']\n",
    "            data_df.loc[(product, band), 'bit_depth'] = src.profile['dtype']"
   ]
  },
  {
   "cell_type": "markdown",
   "id": "d51d5e62",
   "metadata": {},
   "source": [
    "### Let's plot these bands"
   ]
  },
  {
   "cell_type": "code",
   "execution_count": null,
   "id": "80902a18",
   "metadata": {},
   "outputs": [],
   "source": [
    "# We can add some information in between too\n",
    "for product in tmp_df.index.get_level_values(0).unique():\n",
    "    # Select the product\n",
    "    df = data_df.loc[product]\n",
    "    fsize = 20\n",
    "    # Prepare the figure\n",
    "    if len(df) > 3:\n",
    "        fig, axs = plt.subplots(1, len(df), figsize=(16*len(df), 16))\n",
    "        fsize = 35\n",
    "    else:\n",
    "        fig, axs = plt.subplots(1, len(df), figsize=(12*len(df), 12))\n",
    "    for idx, band in enumerate(df.index.get_level_values(0).unique()):\n",
    "        # Load the band\n",
    "        with rasterio.open(band, 'r') as src:\n",
    "            raster = src.read()\n",
    "            data_df.loc[(product, band), 'height'] = src.profile['height']\n",
    "            data_df.loc[(product, band), 'width'] = src.profile['width']\n",
    "            data_df.loc[(product, band), 'bit_depth'] = raster.dtype\n",
    "        axs[idx].imshow(np.squeeze(raster), cmap='gray')\n",
    "        axs[idx].set_title(f\"{band.split('/')[-1].split('.')[0]} raster,\\ndtype {raster.dtype}, dimensions {raster.shape}\", fontsize=fsize)\n",
    "    fig.suptitle(f\"{product} bands\", fontsize=fsize)\n",
    "    plt.show()"
   ]
  },
  {
   "cell_type": "markdown",
   "id": "0a6b278c",
   "metadata": {},
   "source": [
    "### Let's add some sensors information\n",
    "For the **[OLI](https://www.usgs.gov/faqs/what-are-band-designations-landsat-satellites) sensor**, the bands are:\n",
    "1. Band 1 = 0.43-0.45 µm (Coastal aerosol band);\n",
    "2. Band 2 =\t0.45-0.51 µm (Blue band);\n",
    "3. Band 3 = 0.53-0.59 µm (Green band);\n",
    "4. Band 4 = 0.64-0.67 µm (Red band)."
   ]
  },
  {
   "cell_type": "code",
   "execution_count": null,
   "id": "3c3a0766",
   "metadata": {},
   "outputs": [],
   "source": [
    "# Let's pick up the sensors first and bands first\n",
    "for i, r in tmp_df.iterrows():\n",
    "    data_df.loc[i, 'bands_num'] = i[1].split('/')[-1].split('_')[1].split('.')[0]\n",
    "\n",
    "# Let's add a more comprehensible definition for bands\n",
    "bands_dict = {sensor: dict() for sensor in data_df['sensor'].unique()}\n",
    "bands_dict['PAN10M'] = {'BAND3': 'Red', 'BAND4': 'NIR', 'BAND2': 'Green'}\n",
    "bands_dict['MUX'] = {'BAND5': 'Blue', 'BAND6': 'Green', 'BAND7': 'Red', 'BAND8': 'NIR'}\n",
    "bands_dict['WFI'] = {'BAND13': 'Blue', 'BAND14': 'Green', 'BAND15': 'Red', 'BAND16': 'NIR'}\n",
    "bands_dict['CCD1XS'] = {'BAND1': 'Blue', 'BAND2': 'Green', 'BAND3': 'Red', 'BAND4': 'NIR', 'BAND5': 'PAN'}\n",
    "bands_dict['AWFI'] = {'BAND1': 'Blue', 'BAND2': 'Green', 'BAND3': 'Red', 'BAND4': 'NIR'}\n",
    "bands_dict['OLI'] = {'B1': 'Coastal aerosol', 'B2': 'Blue', 'B3': 'Green', 'B4': 'Red'}\n",
    "for i in tmp_df.index:\n",
    "    data_df.loc[i, 'bands_name'] = bands_dict[data_df.loc[i, 'sensor']][data_df.loc[i, 'bands_num']]\n",
    "data_df"
   ]
  },
  {
   "cell_type": "markdown",
   "id": "63a6b6b2",
   "metadata": {},
   "source": [
    "### Let's glue the bands all together and have a look at the full image"
   ]
  },
  {
   "cell_type": "code",
   "execution_count": null,
   "id": "7d2394ea",
   "metadata": {},
   "outputs": [],
   "source": [
    "for product in ['LO82240772021365CUB00']:\n",
    "    # Select the product\n",
    "    df = data_df.loc[product]\n",
    "    fsize = 20\n",
    "    # Prepare the figure\n",
    "    fig, axs = plt.subplots(1, 2, figsize=(24, 12))\n",
    "    bands = dict()\n",
    "    for i, r in df.iterrows():\n",
    "        # Load the band\n",
    "        with rasterio.open(i, 'r') as src:\n",
    "            raster = src.read()\n",
    "            mask = src.read_masks()\n",
    "        # Add it to the bands dictionary\n",
    "        bands[r['bands_name']] = raster.copy()\n",
    "    \n",
    "    # \"Glue\" the bands together\n",
    "    img = np.concatenate((bands['Red'], bands['Green'], bands['Blue']), axis=0)\n",
    "    bit_depth = img.dtype\n",
    "    if img.dtype != np.uint8:\n",
    "        img = (img-img.min())/(img.max()-img.min())\n",
    "    axs[0].imshow(np.moveaxis(img, 0, 2))\n",
    "    axs[1].imshow(np.squeeze(mask), cmap='gray')\n",
    "    fig.suptitle(f\"{product} bands and no data mask, {bit_depth} bits depth\", fontsize=fsize)\n",
    "    plt.show()"
   ]
  },
  {
   "cell_type": "markdown",
   "id": "e0474e84",
   "metadata": {},
   "source": [
    "### Let's add a uniform scaling just for visualization purposes"
   ]
  },
  {
   "cell_type": "code",
   "execution_count": null,
   "id": "fdc54d0c",
   "metadata": {},
   "outputs": [],
   "source": [
    "for product in ['LO82240772021365CUB00']:\n",
    "    # Select the product\n",
    "    df = data_df.loc[product]\n",
    "    fsize = 20\n",
    "    # Prepare the figure\n",
    "    fig, axs = plt.subplots(1, 2, figsize=(24, 12))\n",
    "    bands = dict()\n",
    "    for i, r in df.iterrows():\n",
    "        # Load the band\n",
    "        with rasterio.open(i, 'r') as src:\n",
    "            raster = src.read()\n",
    "            mask = src.read_masks()\n",
    "        # Add it to the bands dictionary\n",
    "        bands[r['bands_name']] = raster.copy()\n",
    "    \n",
    "    # \"Glue\" the bands together\n",
    "    img = np.concatenate((bands['Red'], bands['Green'], bands['Blue']), axis=0)\n",
    "    bit_depth = img.dtype\n",
    "    if img.dtype != np.uint8:\n",
    "        img = quantile_scaling(img, 'uniform')\n",
    "    axs[0].imshow(np.moveaxis(img, 0, 2))\n",
    "    axs[1].imshow(np.squeeze(mask), cmap='gray')\n",
    "    fig.suptitle(f\"{product} bands and no data mask, {bit_depth} bits depth\", fontsize=fsize)\n",
    "    plt.show()"
   ]
  },
  {
   "cell_type": "markdown",
   "id": "17d20836",
   "metadata": {},
   "source": [
    "## Sentinel2"
   ]
  },
  {
   "cell_type": "code",
   "execution_count": null,
   "id": "0fc471ec",
   "metadata": {},
   "outputs": [],
   "source": [
    "bands = glob.glob(os.path.join(DATA_ROOT, '**/IMG_DATA/R10m/*B0*.jp2'), recursive=True)\n",
    "tmp_df = pd.concat([pd.concat({acq.split('/')[4]: pd.DataFrame(index=[acq])}, names=['Original_product', 'Bands path']) for acq in bands])\n",
    "tmp_df['height'] = 0\n",
    "tmp_df['height'] = 0\n",
    "tmp_df['sensor'] = 'OLI'\n",
    "tmp_df['bands_num'] = ''\n",
    "tmp_df['bands_name'] = ''\n",
    "data_df = pd.concat([data_df, tmp_df])\n",
    "data_df"
   ]
  },
  {
   "cell_type": "markdown",
   "id": "82241e3a",
   "metadata": {},
   "source": [
    "### Let's add the info we need from the profile"
   ]
  },
  {
   "cell_type": "code",
   "execution_count": null,
   "id": "ee7b261d",
   "metadata": {},
   "outputs": [],
   "source": [
    "# We can add some information in between too\n",
    "for product in tmp_df.index.get_level_values(0).unique():\n",
    "    # Select the product\n",
    "    df = data_df.loc[product]\n",
    "    fsize = 20\n",
    "    for idx, band in enumerate(df.index.get_level_values(0).unique()):\n",
    "        # Load the band\n",
    "        with rasterio.open(band, 'r') as src:\n",
    "            # Add info\n",
    "            data_df.loc[(product, band), 'height'] = src.profile['height']\n",
    "            data_df.loc[(product, band), 'width'] = src.profile['width']\n",
    "            data_df.loc[(product, band), 'bit_depth'] = src.profile['dtype']"
   ]
  },
  {
   "cell_type": "markdown",
   "id": "307f1916",
   "metadata": {},
   "source": [
    "### Let's have a look at the bands"
   ]
  },
  {
   "cell_type": "code",
   "execution_count": null,
   "id": "6092be35",
   "metadata": {},
   "outputs": [],
   "source": [
    "# We can add some information in between too\n",
    "for product in tmp_df.index.get_level_values(0).unique():\n",
    "    # Select the product\n",
    "    df = data_df.loc[product]\n",
    "    fsize = 20\n",
    "    # Prepare the figure\n",
    "    if len(df) > 3:\n",
    "        fig, axs = plt.subplots(1, len(df), figsize=(16*len(df), 16))\n",
    "        fsize = 35\n",
    "    else:\n",
    "        fig, axs = plt.subplots(1, len(df), figsize=(12*len(df), 12))\n",
    "    for idx, band in enumerate(df.index.get_level_values(0).unique()):\n",
    "        # Load the band\n",
    "        with rasterio.open(band, 'r') as src:\n",
    "            raster = src.read()\n",
    "            data_df.loc[(product, band), 'height'] = src.profile['height']\n",
    "            data_df.loc[(product, band), 'width'] = src.profile['width']\n",
    "            data_df.loc[(product, band), 'bit_depth'] = raster.dtype\n",
    "        axs[idx].imshow(np.squeeze(raster), cmap='gray')\n",
    "        axs[idx].set_title(f\"{band.split('/')[-1].split('.')[0]} raster,\\ndtype {raster.dtype}, dimensions {raster.shape}\", fontsize=fsize)\n",
    "    fig.suptitle(f\"{product} bands\", fontsize=fsize)\n",
    "    plt.show()"
   ]
  },
  {
   "cell_type": "markdown",
   "id": "9a61edc3",
   "metadata": {},
   "source": [
    "### Let's add some sensor information too"
   ]
  },
  {
   "cell_type": "code",
   "execution_count": null,
   "id": "7e54d10a",
   "metadata": {},
   "outputs": [],
   "source": [
    "# Let's pick up the sensors first and bands first\n",
    "for i, r in tmp_df.iterrows():\n",
    "    data_df.loc[i, 'bands_num'] = i[1].split('/')[-1].split('_')[-2]\n",
    "    data_df.loc[i, 'sensor'] = i[0].split('_')[0]\n",
    "\n",
    "# Let's add a more comprehensible definition for bands\n",
    "bands_dict = {sensor: dict() for sensor in data_df['sensor'].unique()}\n",
    "bands_dict['PAN10M'] = {'BAND3': 'Red', 'BAND4': 'NIR', 'BAND2': 'Green'}\n",
    "bands_dict['MUX'] = {'BAND5': 'Blue', 'BAND6': 'Green', 'BAND7': 'Red', 'BAND8': 'NIR'}\n",
    "bands_dict['WFI'] = {'BAND13': 'Blue', 'BAND14': 'Green', 'BAND15': 'Red', 'BAND16': 'NIR'}\n",
    "bands_dict['CCD1XS'] = {'BAND1': 'Blue', 'BAND2': 'Green', 'BAND3': 'Red', 'BAND4': 'NIR', 'BAND5': 'PAN'}\n",
    "bands_dict['AWFI'] = {'BAND1': 'Blue', 'BAND2': 'Green', 'BAND3': 'Red', 'BAND4': 'NIR'}\n",
    "bands_dict['OLI'] = {'B1': 'Coastal aerosol', 'B2': 'Blue', 'B3': 'Green', 'B4': 'Red'}\n",
    "bands_dict['S2A'] = {'B02': 'Blue', 'B03': 'Green', 'B04': 'Red', 'B08': 'NIR'}\n",
    "bands_dict['S2B'] = {'B02': 'Blue', 'B03': 'Green', 'B04': 'Red', 'B08': 'NIR'}\n",
    "for i in tmp_df.index:\n",
    "    data_df.loc[i, 'bands_name'] = bands_dict[data_df.loc[i, 'sensor']][data_df.loc[i, 'bands_num']]\n",
    "data_df"
   ]
  },
  {
   "cell_type": "markdown",
   "id": "6a8c9a55",
   "metadata": {},
   "source": [
    "### Let's glue the RGB bands together"
   ]
  },
  {
   "cell_type": "code",
   "execution_count": null,
   "id": "db6da9ec",
   "metadata": {},
   "outputs": [],
   "source": [
    "for product in tmp_df.index.get_level_values(0).unique():\n",
    "    # Select the product\n",
    "    df = data_df.loc[product]\n",
    "    fsize = 20\n",
    "    # Prepare the figure\n",
    "    fig, axs = plt.subplots(1, 2, figsize=(24, 12))\n",
    "    bands = dict()\n",
    "    for i, r in df.iterrows():\n",
    "        # Load the band\n",
    "        with rasterio.open(i, 'r') as src:\n",
    "            raster = src.read()\n",
    "            mask = src.read_masks()\n",
    "        # Add it to the bands dictionary\n",
    "        bands[r['bands_name']] = raster.copy()\n",
    "    \n",
    "    # \"Glue\" the bands together\n",
    "    img = np.concatenate((bands['Red'], bands['Green'], bands['Blue']), axis=0)\n",
    "    bit_depth = img.dtype\n",
    "    if img.dtype != np.uint8:\n",
    "        img = (img-img.min())/(img.max()-img.min())\n",
    "    axs[0].imshow(np.moveaxis(img, 0, 2))\n",
    "    axs[1].imshow(np.squeeze(mask), cmap='gray')\n",
    "    fig.suptitle(f\"{product} bands and no data mask, {bit_depth} bits depth\", fontsize=fsize)\n",
    "    plt.show()"
   ]
  },
  {
   "cell_type": "markdown",
   "id": "0ebabdbc",
   "metadata": {},
   "source": [
    "### Let's do a uniform quantization in order to show better the images"
   ]
  },
  {
   "cell_type": "code",
   "execution_count": null,
   "id": "866a6b9c",
   "metadata": {
    "scrolled": false
   },
   "outputs": [],
   "source": [
    "for product in tmp_df.index.get_level_values(0).unique():\n",
    "    # Select the product\n",
    "    df = data_df.loc[product]\n",
    "    fsize = 20\n",
    "    # Prepare the figure\n",
    "    fig, axs = plt.subplots(1, 2, figsize=(24, 12))\n",
    "    bands = dict()\n",
    "    for i, r in df.iterrows():\n",
    "        # Load the band\n",
    "        with rasterio.open(i, 'r') as src:\n",
    "            raster = src.read()\n",
    "            mask = src.read_masks()\n",
    "        # Add it to the bands dictionary\n",
    "        bands[r['bands_name']] = raster.copy()\n",
    "    \n",
    "    # \"Glue\" the bands together\n",
    "    img = np.concatenate((bands['Red'], bands['Green'], bands['Blue']), axis=0)\n",
    "    bit_depth = img.dtype\n",
    "    if img.dtype != np.uint8:\n",
    "        img = quantile_scaling(img, 'uniform')\n",
    "    axs[0].imshow(np.moveaxis(img, 0, 2))\n",
    "    axs[1].imshow(np.squeeze(mask), cmap='gray')\n",
    "    fig.suptitle(f\"{product} bands and no data mask, {bit_depth} bits depth\", fontsize=fsize)\n",
    "    plt.show()"
   ]
  },
  {
   "cell_type": "markdown",
   "id": "e6a18e63",
   "metadata": {},
   "source": [
    "### Let's add also the images from PlanetScope\n",
    "We have 3 new products to add:\n",
    "1. An RGB image from PlanetScope 248b;\n",
    "2. An RGB image from RapidEye2;\n",
    "3. An RGB image from RapidEye4.  \n",
    "\n",
    "All images are the same kinds of products (orthorectified and surface radiance corrected)."
   ]
  },
  {
   "cell_type": "code",
   "execution_count": null,
   "id": "d1d0fbe4",
   "metadata": {},
   "outputs": [],
   "source": [
    "bands = glob.glob(os.path.join(DATA_ROOT, '**/*.tif'), recursive=True)\n",
    "bands = [band for band in bands if ('analytic' in band) and ('udm.tif' not in band) and ('udm2.tif' not in band)]\n",
    "tmp_df = pd.concat([pd.concat({acq.split('/')[4]: pd.DataFrame(index=[acq])}, names=['Original_product', 'Bands path']) for acq in bands])\n",
    "tmp_df['height'] = 0\n",
    "tmp_df['height'] = 0\n",
    "tmp_df['sensor'] = 'OLI'\n",
    "tmp_df['bands_num'] = ''\n",
    "tmp_df['bands_name'] = ''\n",
    "tmp_df\n",
    "data_df = pd.concat([data_df, tmp_df])\n",
    "data_df"
   ]
  },
  {
   "cell_type": "markdown",
   "id": "c5ad6781",
   "metadata": {},
   "source": [
    "### Let's add height and width"
   ]
  },
  {
   "cell_type": "code",
   "execution_count": null,
   "id": "61b6ac90",
   "metadata": {
    "scrolled": true
   },
   "outputs": [],
   "source": [
    "# We can add some information in between too\n",
    "for product in tmp_df.index.get_level_values(0).unique():\n",
    "    # Select the product\n",
    "    df = data_df.loc[product]\n",
    "    fsize = 20\n",
    "    for idx, band in enumerate(df.index.get_level_values(0).unique()):\n",
    "        # Load the band\n",
    "        with rasterio.open(band, 'r') as src:\n",
    "            # Add info\n",
    "            data_df.loc[(product, band), 'height'] = src.profile['height']\n",
    "            data_df.loc[(product, band), 'width'] = src.profile['width']\n",
    "            data_df.loc[(product, band), 'bit_depth'] = src.profile['dtype']\n",
    "data_df"
   ]
  },
  {
   "cell_type": "markdown",
   "id": "8b0aa53e",
   "metadata": {},
   "source": [
    "### Let's have a look at the bands\n",
    "## Watch out!\n",
    "In this case we have a unique raster for all bands! The order should be BGRN (N = Near Infrared)."
   ]
  },
  {
   "cell_type": "code",
   "execution_count": null,
   "id": "738a2727",
   "metadata": {
    "scrolled": true
   },
   "outputs": [],
   "source": [
    "# We can add some information in between too\n",
    "for product in tmp_df.index.get_level_values(0).unique():\n",
    "    # Select the product\n",
    "    df = data_df.loc[product]\n",
    "    fsize = 20\n",
    "    # Prepare the figure\n",
    "    fig, axs = plt.subplots(1, len(df), figsize=(12*len(df), 12))\n",
    "    for idx, band in enumerate(df.index.get_level_values(0).unique()):\n",
    "        # Load the band\n",
    "        with rasterio.open(band, 'r') as src:\n",
    "            raster = src.read()\n",
    "            data_df.loc[(product, band), 'height'] = src.profile['height']\n",
    "            data_df.loc[(product, band), 'width'] = src.profile['width']\n",
    "            data_df.loc[(product, band), 'bit_depth'] = raster.dtype\n",
    "        raster = raster[[2, 1, 0]]\n",
    "        if raster.dtype != np.uint8:\n",
    "            raster = quantile_scaling(raster, 'uniform')\n",
    "        axs.imshow(np.moveaxis(raster, 0, 2))\n",
    "        axs.set_title(f\"{band.split('/')[-1].split('.')[0]} raster,\\ndtype {raster.dtype}, dimensions {raster.shape}\", fontsize=fsize)\n",
    "    fig.suptitle(f\"{product} bands\", fontsize=fsize)\n",
    "    plt.show()"
   ]
  },
  {
   "cell_type": "markdown",
   "id": "dcbf14c2",
   "metadata": {},
   "source": [
    "### We have a lots of useful info in the masks!"
   ]
  },
  {
   "cell_type": "code",
   "execution_count": null,
   "id": "25c992bf",
   "metadata": {
    "scrolled": false
   },
   "outputs": [],
   "source": [
    "# We can add some information in between too\n",
    "for product in tmp_df.index.get_level_values(0).unique():\n",
    "    # Select the product\n",
    "    df = data_df.loc[product]\n",
    "    fsize = 20\n",
    "    # Prepare the figure\n",
    "    for band in df.index.get_level_values(0).unique():\n",
    "        # Load the band\n",
    "        if 'RapidEye' in band:\n",
    "            band = band.replace('Analytic_SR', 'udm')\n",
    "            with rasterio.open(band, 'r') as src:\n",
    "                masks = src.read()\n",
    "            fig, axs = plt.subplots(1, 1, figsize=(12, 12))\n",
    "            axs.imshow(np.squeeze(masks), cmap='gray')\n",
    "            axs.set_title(f\"{band.split('/')[-1].split('.')[0]} mask {idx},\\ndimensions {masks.shape}\", fontsize=fsize)\n",
    "            fig.suptitle(f\"{product} bands\", fontsize=fsize)\n",
    "            plt.show()\n",
    "        else:\n",
    "            band = band.replace('BGRN_SR', 'udm2')\n",
    "            with rasterio.open(band, 'r') as src:\n",
    "                masks = src.read()\n",
    "            fig, axs = plt.subplots(1, len(masks), figsize=(12*len(masks), 12))\n",
    "            for idx, mask in enumerate(masks):\n",
    "                axs[idx].imshow(np.squeeze(mask), cmap='gray')\n",
    "                axs[idx].set_title(f\"{band.split('/')[-1].split('.')[0]} mask {idx},\\ndimensions {raster.shape}\", fontsize=fsize)\n",
    "            fig.suptitle(f\"{product} bands\", fontsize=fsize)\n",
    "            plt.show()"
   ]
  },
  {
   "cell_type": "markdown",
   "id": "b6791888",
   "metadata": {},
   "source": [
    "### The UDM2 provides more info for all pixels, but also the cloud and shadow pixels are reported as unclear!\n",
    "We would like to have them instead, can we try to combine the info from both in a single mask?"
   ]
  },
  {
   "cell_type": "markdown",
   "id": "0bc26076",
   "metadata": {},
   "source": [
    "Let's also extract binary mask from the UDM files of RapidEye"
   ]
  },
  {
   "cell_type": "code",
   "execution_count": null,
   "id": "c77c1f4d",
   "metadata": {
    "scrolled": true
   },
   "outputs": [],
   "source": [
    "# We can add some information in between too\n",
    "for product in tmp_df.index.get_level_values(0).unique():\n",
    "    # Select the product\n",
    "    df = data_df.loc[product]\n",
    "    fsize = 20\n",
    "    # Prepare the figure\n",
    "    for band in df.index.get_level_values(0).unique():\n",
    "        # Load the band\n",
    "        if 'RapidEye' in band:\n",
    "            band = band.replace('Analytic_SR', 'udm')\n",
    "            with rasterio.open(band, 'r') as src:\n",
    "                masks = src.read()\n",
    "            fig, axs = plt.subplots(1, 1, figsize=(12, 12))\n",
    "            masks[masks==2] = 0  # fix the cloud pixels\n",
    "            masks[masks==0] = 255  # revert the mask\n",
    "            masks[masks!=255] = 0  # change the other pixels to 0\n",
    "            axs.imshow(np.squeeze(masks), cmap='gray', clim=[0, 255])\n",
    "            axs.set_title(f\"{band.split('/')[-1].split('.')[0]} mask {idx},\\ndimensions {masks.shape}\", fontsize=fsize)\n",
    "            fig.suptitle(f\"{product} bands\", fontsize=fsize)\n",
    "            plt.show()\n",
    "        else:\n",
    "            band = band.replace('BGRN_SR', 'udm2')\n",
    "            with rasterio.open(band, 'r') as src:\n",
    "                masks = src.read()\n",
    "            fig, axs = plt.subplots(1, 1, figsize=(12, 12))\n",
    "            axs.imshow(masks[0]+masks[2]+masks[5], cmap='gray')\n",
    "            axs.set_title(f\"{band.split('/')[-1].split('.')[0]} combined mask,\\ndimensions {masks.shape}\", fontsize=fsize)\n",
    "            fig.suptitle(f\"{product} bands\", fontsize=fsize)\n",
    "            plt.show()"
   ]
  },
  {
   "cell_type": "markdown",
   "id": "6e65c107",
   "metadata": {},
   "source": [
    "### Let's add some sensor info"
   ]
  },
  {
   "cell_type": "code",
   "execution_count": null,
   "id": "d24ee77b",
   "metadata": {},
   "outputs": [],
   "source": [
    "data_df.loc['PlanetScope_Campinas_psorthotile_analytic_sr_udm2', 'sensor'] = 'PSB.SD'\n",
    "data_df.loc['PlanetScope_Campinas_psorthotile_analytic_sr_udm2', 'bands_name'] = 'RGBN'\n",
    "data_df.loc['RapidEye2_Santos_reorthotile_analytic_sr', 'sensor'] = 'JSS 56'\n",
    "data_df.loc['RapidEye2_Santos_reorthotile_analytic_sr', 'bands_name'] = 'RGBReN'\n",
    "data_df.loc['RapidEye4_Sao_Miguel_Arcangeo_reorthotile_analytic_sr', 'sensor'] = 'JSS 56'\n",
    "data_df.loc['RapidEye4_Sao_Miguel_Arcangeo_reorthotile_analytic_sr', 'bands_name'] = 'RGBReN'\n",
    "data_df"
   ]
  },
  {
   "cell_type": "markdown",
   "id": "a7f220be",
   "metadata": {},
   "source": [
    "### All right! Now we have our training images :)"
   ]
  },
  {
   "cell_type": "markdown",
   "id": "76f89410",
   "metadata": {},
   "source": [
    "## Let's plot some statistics shown in the paper"
   ]
  },
  {
   "cell_type": "code",
   "execution_count": null,
   "id": "31e3d3ed",
   "metadata": {
    "scrolled": false
   },
   "outputs": [],
   "source": [
    "color_dict = {'Red': 'r', 'Green': 'g', 'Blue': 'b'}\n",
    "plt.rcParams[\"font.family\"] = \"serif\"\n",
    "plt.rcParams[\"font.serif\"] = [\"Times New Roman\"]\n",
    "for product in data_df.drop('CBERS_4_PAN10M_20220905_151_116').index.get_level_values(0).unique():\n",
    "    # Select the product\n",
    "    df = data_df.loc[product]\n",
    "    fsize = 30\n",
    "    # Prepare the figure\n",
    "    fig, axs = plt.subplots(1, 3, figsize=(27, 9))\n",
    "    for i, r in df.iterrows():\n",
    "        if r['bands_name'] in ['Red', 'Blue', 'Green']:\n",
    "            # Load the band\n",
    "            with rasterio.open(i, 'r') as src:\n",
    "                raster = src.read()\n",
    "                mask = src.read_masks()\n",
    "\n",
    "            # Plot the standard pixel distribution\n",
    "            bit_depth = raster.dtype\n",
    "            dtype_info = np.iinfo(bit_depth)  # we know all images to be integers\n",
    "            axs[0].hist(raster[mask==255].flatten(), bins=200, range=(0, dtype_info.max), color=color_dict[r['bands_name']])\n",
    "            axs[0].grid(True)\n",
    "            axs[0].set_title('Standard dist', fontsize=fsize)\n",
    "            axs[0].set_xlabel('Pixel value', fontsize=fsize)\n",
    "            axs[0].set_ylabel('\\% of occurrence', fontsize=fsize)\n",
    "            axs[0].tick_params(axis='both', labelsize=fsize-5)\n",
    "            # Plot the pixel distribution up to the max value\n",
    "            max_value = raster[mask==255].max()\n",
    "            axs[1].hist(raster[mask==255].flatten(), bins=200, range=(0, max_value), color=color_dict[r['bands_name']])\n",
    "            axs[1].grid(True)\n",
    "            axs[1].set_title('Max-value dist', fontsize=fsize)\n",
    "            axs[1].set_xlabel('Pixel value', fontsize=fsize)\n",
    "            axs[1].set_ylabel('\\% of occurrence', fontsize=fsize)\n",
    "            axs[1].tick_params(axis='both', labelsize=fsize-5)\n",
    "            # Plot the distribution up to the 99th percentile\n",
    "            q = np.percentile(raster[mask==255], 99)\n",
    "            axs[2].hist(raster[mask==255].flatten(), bins=200, range=(0, q), color=color_dict[r['bands_name']])\n",
    "            axs[2].grid(True)\n",
    "            axs[2].set_title(r'99-th percentile dist', fontsize=fsize)\n",
    "            axs[2].set_xlabel('Pixel value', fontsize=fsize)\n",
    "            axs[2].set_ylabel('\\% of occurrence', fontsize=fsize)\n",
    "            axs[2].tick_params(axis='both', labelsize=fsize-5)\n",
    "        \n",
    "        elif r['bands_name'] in ['RGBN', 'RGBReN']:\n",
    "            \n",
    "            # Load the band\n",
    "            with rasterio.open(i, 'r') as src:\n",
    "                raster = src.read()[[2, 1, 0]]\n",
    "                \n",
    "            # Load the mask\n",
    "            if 'RapidEye' in product:\n",
    "                with rasterio.open(i.replace('Analytic_SR', 'udm'), 'r') as src:\n",
    "                    mask = src.read()\n",
    "                mask[mask==2] = 0  # fix the cloud pixels\n",
    "                mask[mask==0] = 255  # revert the mask\n",
    "                mask[mask!=255] = 0  # change the other pixels to 0\n",
    "            else:\n",
    "                with rasterio.open(i.replace('BGRN_SR', 'udm2'), 'r') as src:\n",
    "                    mask = src.read()\n",
    "                mask = mask[0]+mask[2]+mask[5]\n",
    "            mask = np.squeeze(mask)\n",
    "            \n",
    "            # Plot the standard pixel distribution\n",
    "            for band_idx, band_name in enumerate(['Red', 'Green', 'Blue']):\n",
    "                bit_depth = raster.dtype\n",
    "                dtype_info = np.iinfo(bit_depth)  # we know all images to be integers\n",
    "                axs[0].hist(raster[band_idx][mask>0].flatten(), bins=200, range=(0, dtype_info.max), color=color_dict[band_name])\n",
    "                axs[0].grid(True)\n",
    "                axs[0].set_title('Standard dist', fontsize=fsize)\n",
    "                axs[0].set_xlabel('Pixel value', fontsize=fsize)\n",
    "                axs[0].set_ylabel('\\% of occurrence', fontsize=fsize)\n",
    "                axs[0].tick_params(axis='both', labelsize=fsize-5)\n",
    "                # Plot the pixel distribution up to the max value\n",
    "                max_value = raster[band_idx][mask>0].max()\n",
    "                axs[1].hist(raster[band_idx][mask>0].flatten(), bins=200, range=(0, max_value), color=color_dict[band_name])\n",
    "                axs[1].grid(True)\n",
    "                axs[1].set_title('Max-value dist', fontsize=fsize)\n",
    "                axs[1].set_xlabel('Pixel value', fontsize=fsize)\n",
    "                axs[1].set_ylabel('\\% of occurrence', fontsize=fsize)\n",
    "                axs[1].tick_params(axis='both', labelsize=fsize-5)\n",
    "                # Plot the distribution up to the 99th percentile\n",
    "                q = np.percentile(raster[band_idx][mask>0], 99)\n",
    "                axs[2].hist(raster[band_idx][mask>0].flatten(), bins=200, range=(0, q), color=color_dict[band_name])\n",
    "                axs[2].grid(True)\n",
    "                axs[2].set_title(r'99-th percentile dist', fontsize=fsize)\n",
    "                axs[2].set_xlabel('Pixel value', fontsize=fsize)\n",
    "                axs[2].set_ylabel('\\% of occurrence', fontsize=fsize)\n",
    "                axs[2].tick_params(axis='both', labelsize=fsize-5)\n",
    "\n",
    "    # Add the title and show\n",
    "    fig.suptitle(f\"{product} bands and PMF, {bit_depth} bits depth\", fontsize=fsize)\n",
    "    plt.show()"
   ]
  },
  {
   "cell_type": "code",
   "execution_count": null,
   "id": "13e1f895",
   "metadata": {},
   "outputs": [],
   "source": []
  }
 ],
 "metadata": {
  "kernelspec": {
   "display_name": "Python 3 (ipykernel)",
   "language": "python",
   "name": "python3"
  },
  "language_info": {
   "codemirror_mode": {
    "name": "ipython",
    "version": 3
   },
   "file_extension": ".py",
   "mimetype": "text/x-python",
   "name": "python",
   "nbconvert_exporter": "python",
   "pygments_lexer": "ipython3",
   "version": "3.7.6"
  }
 },
 "nbformat": 4,
 "nbformat_minor": 5
}
