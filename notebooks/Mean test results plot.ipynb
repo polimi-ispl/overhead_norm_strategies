{
 "cells": [
  {
   "cell_type": "markdown",
   "id": "629e9da0",
   "metadata": {},
   "source": [
    "# Mean results plot\n",
    "Simple notebook to plot figures for the paper.\n",
    "\n",
    "Authors:\n",
    "Edoardo Daniele Cannas - edoardodaniele.cannas@polimi.it  \n",
    "Sriram Baireddy - sbairedd@purdue.edu  \n",
    "Paolo Bestagini - paolo.bestagini@polimi.it  \n",
    "Stefano Tubaro - stefano.tubaro@polimi.it  \n",
    "Edward J. Delp - ace@purdue.edu  "
   ]
  },
  {
   "cell_type": "markdown",
   "id": "fdbd0256",
   "metadata": {},
   "source": [
    "## Libraries import"
   ]
  },
  {
   "cell_type": "code",
   "execution_count": null,
   "id": "681591e1",
   "metadata": {},
   "outputs": [],
   "source": [
    "import matplotlib.pyplot as plt\n",
    "import pandas as pd\n",
    "import numpy as np\n",
    "import os\n",
    "import glob\n",
    "import cv2\n",
    "from sklearn.metrics import roc_curve, auc\n",
    "from matplotlib import rc\n",
    "rc('font',**{'family':'sans-serif','sans-serif':['Times New Roman']})\n",
    "## for Palatino and other serif fonts use:\n",
    "#rc('font',**{'family':'serif','serif':['Palatino']})\n",
    "rc('text', usetex=True)"
   ]
  },
  {
   "cell_type": "markdown",
   "id": "3ccbdaa2",
   "metadata": {},
   "source": [
    "## Helpers"
   ]
  },
  {
   "cell_type": "code",
   "execution_count": null,
   "id": "56465fd4",
   "metadata": {},
   "outputs": [],
   "source": [
    "from sklearn.preprocessing import RobustScaler, QuantileTransformer\n",
    "\n",
    "def quantile_scaling(img: np.ndarray, dist: str) -> np.ndarray:\n",
    "\t\"\"\"\n",
    "\tQuantileTransformer: maps the image range to a specific stastical distribution\n",
    "\t\n",
    "\t:param img: np.ndarray, input image (tested GRD 16-bits)\n",
    "\t:param distribution: str, distribution for mapping the image (either 'uniform' or 'normal')\n",
    "\t:return: np.ndarray, normalized numpy array\n",
    "\t\"\"\"\n",
    "\treturn QuantileTransformer(output_distribution=dist).fit_transform(img.reshape(-1, 1)).reshape(img.shape)\n",
    "\n",
    "\n",
    "def rename_sat(product: str) -> str:\n",
    "    if product[0] == 'L':\n",
    "        sat_name = 'Landsat8'\n",
    "    else:\n",
    "        sat_name = product.split('_')[0]\n",
    "        if sat_name in ['AMAZONIA', 'CBERS']:\n",
    "            sat_name += f'{product.split(\"_\")[1]}_{product.split(\"_\")[2]}'\n",
    "    return sat_name\n",
    "\n",
    "\n",
    "def compute_model_sign(train_tag: str) -> str:\n",
    "    # Create a tag for the visualization\n",
    "    model_sign = train_tag.split('/')[-3]\n",
    "    return model_sign\n",
    "        "
   ]
  },
  {
   "cell_type": "code",
   "execution_count": null,
   "id": "49e4b906",
   "metadata": {},
   "outputs": [],
   "source": [
    "%%javascript\n",
    "(function(on) {\n",
    "const e=$( \"<a>Setup failed</a>\" );\n",
    "const ns=\"js_jupyter_suppress_warnings\";\n",
    "var cssrules=$(\"#\"+ns);\n",
    "if(!cssrules.length) cssrules = $(\"<style id='\"+ns+\"' type='text/css'>div.output_stderr { } </style>\").appendTo(\"head\");\n",
    "e.click(function() {\n",
    "    var s='Showing';  \n",
    "    cssrules.empty()\n",
    "    if(on) {\n",
    "        s='Hiding';\n",
    "        cssrules.append(\"div.output_stderr, div[data-mime-type*='.stderr'] { display:none; }\");\n",
    "    }\n",
    "    e.text(s+' warnings (click to toggle)');\n",
    "    on=!on;\n",
    "}).click();\n",
    "$(element).append(e);\n",
    "})(true);"
   ]
  },
  {
   "cell_type": "markdown",
   "id": "b165758a069acf33",
   "metadata": {},
   "source": [
    "## Load the results"
   ]
  },
  {
   "cell_type": "markdown",
   "id": "784ca26c",
   "metadata": {},
   "source": [
    "### Histogram Equalization Generated Dataset (HEGD)"
   ]
  },
  {
   "cell_type": "code",
   "execution_count": null,
   "id": "e89145c6",
   "metadata": {},
   "outputs": [],
   "source": [
    "# Look for all models used\n",
    "results_dir = '../results/hegd'  # PLACE YOUR RESULTS DIRECTORY HERE!\n",
    "all_dfs_paths = glob.glob(os.path.join(results_dir, '**', 'results_df_mean_fingerprints.pkl'), recursive=True)\n",
    "\n",
    "# Load the Dataframe for each model and put it in a bigger one\n",
    "all_results_df = []\n",
    "for path in all_dfs_paths:cn\n",
    "    # Load results\n",
    "    df = pd.read_pickle(path)\n",
    "    # Create a tag for the visualization\n",
    "    model_sign = compute_model_sign(path)\n",
    "    # Save in the bigger DataFrame\n",
    "    df = pd.concat({model_sign: df}, names=['Model_name', 'Operation', 'Img_idx'])\n",
    "    all_results_df.append(df)\n",
    "\n",
    "# Concatenate everything\n",
    "all_results_df = pd.concat(all_results_df)\n",
    "\n",
    "# Compute the mean across operations\n",
    "he_mean_results = all_results_df.groupby(['Model_name', 'Operation']).mean()[['AUC']]\n"
   ]
  },
  {
   "cell_type": "markdown",
   "id": "67605bd9",
   "metadata": {},
   "source": [
    "### Standard Generated Dataset (SGD)"
   ]
  },
  {
   "cell_type": "code",
   "execution_count": null,
   "id": "b34880da",
   "metadata": {},
   "outputs": [],
   "source": [
    "# Look for all models used\n",
    "results_dir = '../results/sgd'  # PLACE YOUR RESULTS DIRECTORY HERE!\n",
    "all_dfs_paths = glob.glob(os.path.join(results_dir, '**', 'results_df_mean_fingerprints.pkl'), recursive=True)\n",
    "\n",
    "# Load the Dataframe for each model and put it in a bigger one\n",
    "all_results_df = []\n",
    "for path in all_dfs_paths:\n",
    "    # Load results\n",
    "    df = pd.read_pickle(path)\n",
    "    # Create a tag for the visualization\n",
    "    model_sign = compute_model_sign(path)\n",
    "    # Save in the bigger DataFrame\n",
    "    df = pd.concat({model_sign: df}, names=['Model_name', 'Operation', 'Img_idx'])\n",
    "    all_results_df.append(df)\n",
    "\n",
    "# Concatenate everything\n",
    "all_results_df = pd.concat(all_results_df)\n",
    "\n",
    "# Compute the mean across operations\n",
    "max_abs_mean_results = all_results_df.groupby(['Model_name', 'Operation']).mean()[['AUC']]\n"
   ]
  },
  {
   "cell_type": "markdown",
   "id": "b56830fd",
   "metadata": {},
   "source": [
    "### Join together the Dataframes"
   ]
  },
  {
   "cell_type": "code",
   "execution_count": null,
   "id": "33959482",
   "metadata": {},
   "outputs": [],
   "source": [
    "all_results = max_abs_mean_results.join(he_mean_results, rsuffix=' HEG', lsuffix=' SG')\n",
    "all_results"
   ]
  },
  {
   "cell_type": "markdown",
   "id": "89988d92",
   "metadata": {},
   "source": [
    "## Plot the results\n",
    "We are going to have a separate bar plot for the SGD and the HEGD datasets."
   ]
  },
  {
   "cell_type": "markdown",
   "id": "61631c15f43e167a",
   "metadata": {},
   "source": [
    "### Re-organize the Dataframe"
   ]
  },
  {
   "cell_type": "code",
   "execution_count": null,
   "id": "11a26319",
   "metadata": {},
   "outputs": [],
   "source": [
    "# Select the models to plot\n",
    "plot_df = all_results.loc[['MinPMax_95', 'MinPMax_99', 'MaxScaling', 'HistogramEqualization']]\n",
    "# Rename the columns\n",
    "plot_df = plot_df.rename({'MinPMax_95': r'MinPMax $95^{th}$ percentile',\n",
    "                          'MinPMax_99': r'MinPMax $99^{th}$ percentile',\n",
    "                          'MaxScaling': r'MaxScaling',\n",
    "                          'HistogramEqualization': 'HistogramEqualization'})\n",
    "# Rename the index\n",
    "plot_df = plot_df.rename_axis(index={'Model_name': 'Preprocessing strategy'})\n",
    "# Rename the operations\n",
    "operations_mapping = {'Affine': 'Rotation + resize', 'AverageBlur': 'Average blur', 'GaussianBlur': 'Gaussian Blur',\n",
    "                      'Identity': 'No editing', 'LogContrast': 'Log contrast', 'MotionBlur': 'Motion blur',\n",
    "                      'PerspectiveTransform': 'Prospective affine', 'PiecewiseAffine': 'Piecewise affine', \n",
    "                      'SigmoidContrast': 'Sigmoid contrast'}\n",
    "plot_df.index = plot_df.index.set_levels([plot_df.index.levels[0], plot_df.index.levels[1].map(lambda x: operations_mapping[x.replace('Unnamed', '')])])\n",
    "plot_df = plot_df.sort_index()\n",
    "plot_df\n"
   ]
  },
  {
   "cell_type": "markdown",
   "id": "653e44eaf0aac258",
   "metadata": {},
   "source": [
    "### Plot the SGD results"
   ]
  },
  {
   "cell_type": "code",
   "execution_count": null,
   "id": "cb7f519e",
   "metadata": {},
   "outputs": [],
   "source": [
    "# Plot params\n",
    "plt.rcParams['font.family'] = 'Times New Roman'\n",
    "fontsize=20\n",
    "ax = plot_df['AUC SG'].swaplevel(0, 1).unstack(level=1).plot.barh(legend=True, \n",
    "                                                                 xlim=[0, 0.95], \n",
    "                                                                 xticks=np.linspace(0, 1.0, 11), \n",
    "                                                                 grid=True, figsize=(7, 5))\n",
    "\n",
    "# Adjust the layout\n",
    "ax.tick_params(axis='both', labelsize=fontsize-5)\n",
    "ax.set_ylabel('Editing operation', fontsize=fontsize)\n",
    "ax.set_xlabel('AUC value', fontsize=fontsize)\n",
    "ax.axvline(x=plot_df['AUC SG'].mean(), color='black', linestyle='--', label='Mean performance')\n",
    "legend = ax.legend(loc='upper left', prop={'size': fontsize-5})\n",
    "legend.get_frame().set_facecolor('white')\n",
    "legend.get_frame().set_alpha(1)\n"
   ]
  },
  {
   "cell_type": "markdown",
   "id": "93cf40e8aa5a5743",
   "metadata": {},
   "source": [
    "### Plot the HEGD results"
   ]
  },
  {
   "cell_type": "code",
   "execution_count": null,
   "id": "4f3508cf",
   "metadata": {},
   "outputs": [],
   "source": [
    "# Plot params\n",
    "plt.rcParams['font.family'] = 'Times New Roman'\n",
    "fontsize=20\n",
    "ax = plot_df['AUC HEG'].swaplevel(0, 1).unstack(level=1).plot.barh(legend=True, \n",
    "                                                                 xlim=[0, 0.95], \n",
    "                                                                 xticks=np.linspace(0, 1.0, 11), \n",
    "                                                                 grid=True, figsize=(7, 5))\n",
    "\n",
    "# Adjust the layout\n",
    "ax.tick_params(axis='both', labelsize=fontsize-5)\n",
    "ax.set_ylabel('Editing operation', fontsize=fontsize)\n",
    "ax.set_xlabel('AUC value', fontsize=fontsize)\n",
    "ax.axvline(x=plot_df['AUC HEG'].mean(), color='black', linestyle='--', label='Mean performance')\n",
    "legend = ax.legend(loc='upper left', prop={'size': fontsize-5})\n",
    "legend.get_frame().set_facecolor('white')\n",
    "legend.get_frame().set_alpha(1)\n"
   ]
  },
  {
   "cell_type": "code",
   "execution_count": null,
   "id": "7a699329",
   "metadata": {},
   "outputs": [],
   "source": []
  }
 ],
 "metadata": {
  "kernelspec": {
   "display_name": "Python 3 (ipykernel)",
   "language": "python",
   "name": "python3"
  },
  "language_info": {
   "codemirror_mode": {
    "name": "ipython",
    "version": 3
   },
   "file_extension": ".py",
   "mimetype": "text/x-python",
   "name": "python",
   "nbconvert_exporter": "python",
   "pygments_lexer": "ipython3",
   "version": "3.7.6"
  }
 },
 "nbformat": 4,
 "nbformat_minor": 5
}
